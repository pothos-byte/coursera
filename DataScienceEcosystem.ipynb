{
  "nbformat": 4,
  "nbformat_minor": 0,
  "metadata": {
    "colab": {
      "provenance": []
    },
    "kernelspec": {
      "name": "python3",
      "display_name": "Python 3"
    },
    "language_info": {
      "name": "python"
    }
  },
  "cells": [
    {
      "cell_type": "markdown",
      "source": [
        "# Data Science Tools and Ecosystem"
      ],
      "metadata": {
        "id": "ThmUVzfpwqcz"
      }
    },
    {
      "cell_type": "markdown",
      "source": [
        "**Objectives:**\n",
        "\n",
        "- List popular languages for Data Science.\n",
        "- Identify commonly used libraries in Data Science.\n",
        "- Demonstrate how to evaluate arithmetic expressions in Python.\n",
        "- Convert minutes to hours using Python.\n",
        "- Create tables to summarize information.\n",
        "\n",
        "## Author\n",
        "\n",
        "Elizabeth"
      ],
      "metadata": {
        "id": "VbjJYbb6aI44"
      }
    },
    {
      "cell_type": "markdown",
      "source": [
        "In this notebook, Data Science Tools and Ecosystem are summarized."
      ],
      "metadata": {
        "id": "jtBLJgUyxID6"
      }
    },
    {
      "cell_type": "markdown",
      "source": [
        "Some of the popular languages that Data Scientists use are:\n",
        "\n",
        "1. Python\n",
        "2. R\n",
        "3. SQL"
      ],
      "metadata": {
        "id": "-PYQ0mO3X6tk"
      }
    },
    {
      "cell_type": "markdown",
      "source": [
        "Some of the commonly used libraries used by Data Scientists include:\n",
        "\n",
        "1. Pandas\n",
        "2. NumPy\n",
        "3. Matplotlib\n",
        "4. Scikit-learn"
      ],
      "metadata": {
        "id": "-tIFqrzVYhUg"
      }
    },
    {
      "cell_type": "markdown",
      "source": [
        "| Data Science Tools  |\n",
        "|----------------------|\n",
        "| Jupyter Notebook      |\n",
        "| RStudio               |\n",
        "| Apache Zeppelin       |"
      ],
      "metadata": {
        "id": "vv8riTUZYvrU"
      }
    },
    {
      "cell_type": "markdown",
      "source": [
        "### Below are a few examples of evaluating arithmetic expressions in Python.\n",
        "\n",
        "```python\n",
        "# Addition\n",
        "sum_result = 5 + 3  # Result: 8\n",
        "\n",
        "# Subtraction\n",
        "difference_result = 10 - 4  # Result: 6\n",
        "\n",
        "# Multiplication\n",
        "product_result = 7 * 6  # Result: 42\n",
        "\n",
        "# Division\n",
        "division_result = 15 / 3  # Result: 5.0\n",
        "\n",
        "# Floor Division\n",
        "floor_division_result = 15 // 4  # Result: 3\n",
        "\n",
        "# Modulus\n",
        "modulus_result = 10 % 3  # Result: 1\n",
        "\n",
        "# Exponentiation\n",
        "exponentiation_result = 2 ** 3  # Result: 8"
      ],
      "metadata": {
        "id": "z5DbhhduZCn-"
      }
    },
    {
      "cell_type": "code",
      "source": [
        "# This a simple arithmetic expression to mutiply then add integers\n",
        "(3*4)+5"
      ],
      "metadata": {
        "colab": {
          "base_uri": "https://localhost:8080/"
        },
        "id": "azoOLoPiZSpR",
        "outputId": "9ce325c8-4c61-4a01-c22f-11c21d8f83f4"
      },
      "execution_count": 1,
      "outputs": [
        {
          "output_type": "execute_result",
          "data": {
            "text/plain": [
              "17"
            ]
          },
          "metadata": {},
          "execution_count": 1
        }
      ]
    },
    {
      "cell_type": "code",
      "source": [
        "#This will convert 200 minutes to hours by diving by 60\n",
        "minutes = 200\n",
        "hours = minutes / 60\n",
        "hours"
      ],
      "metadata": {
        "colab": {
          "base_uri": "https://localhost:8080/"
        },
        "id": "X22Zi5GHZpCP",
        "outputId": "668aa1a6-fe3a-4886-b3fd-1d1ab3210ea0"
      },
      "execution_count": 2,
      "outputs": [
        {
          "output_type": "execute_result",
          "data": {
            "text/plain": [
              "3.3333333333333335"
            ]
          },
          "metadata": {},
          "execution_count": 2
        }
      ]
    }
  ]
}